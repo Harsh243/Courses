{
  "nbformat": 4,
  "nbformat_minor": 0,
  "metadata": {
    "colab": {
      "provenance": []
    },
    "kernelspec": {
      "name": "python3",
      "display_name": "Python 3"
    },
    "language_info": {
      "name": "python"
    }
  },
  "cells": [
    {
      "cell_type": "markdown",
      "source": [
        "# **My Jupyter Notebook on IBM Watson Studio**\n",
        "\n",
        "---\n",
        "\n"
      ],
      "metadata": {
        "id": "EGpIDNlHcyA4"
      }
    },
    {
      "cell_type": "markdown",
      "source": [
        "My name is Harsh Mewada and i am a Data Science, AI enthusiast. I am interested in machine learning models and neural networks for the purpose of creating a predictive and reccoendation models. "
      ],
      "metadata": {
        "id": "vXCqxdxodRMq"
      }
    },
    {
      "cell_type": "markdown",
      "source": [
        "\n",
        "\n",
        "---\n",
        "The List below contains some of the programming languages used in Data Science\n",
        "\n",
        "*   Python\n",
        "\n",
        "*   SQL\n",
        "\n",
        "*   R\n",
        "\n",
        "*   Julia\n",
        "\n",
        "*   Java\n",
        "\n",
        "*   JavaScript\n",
        "\n",
        "*   Scala\n",
        "\n",
        "*   Go\n",
        "\n",
        "\n",
        "\n",
        "\n",
        "\n",
        "\n",
        "\n"
      ],
      "metadata": {
        "id": "sMV2KF3nfUcT"
      }
    },
    {
      "cell_type": "markdown",
      "source": [
        "The List below contains some of the libbraries used in Data Science \n",
        "\n",
        "\n",
        "*   TensorFlow\n",
        "*   Panda\n",
        "*   Numpy\n",
        "*   Sci-py\n",
        "*   Keras\n",
        "*   Scikit-learn\n",
        "*   Pytorch\n",
        "*   Scrapy\n",
        "\n"
      ],
      "metadata": {
        "id": "T4LkMDmFgS1f"
      }
    },
    {
      "cell_type": "markdown",
      "source": [
        "![image_2023-03-06_162410009.png](data:image/png;base64,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)"
      ],
      "metadata": {
        "id": "zrW4dEizhUX6"
      }
    },
    {
      "cell_type": "code",
      "source": [
        "a=10\n",
        "b=2\n",
        "print(a+b)\n",
        "print(a*b)"
      ],
      "metadata": {
        "colab": {
          "base_uri": "https://localhost:8080/"
        },
        "id": "du_gvjkTdQCm",
        "outputId": "2b1ec765-8bed-4b7c-c643-8217ed4eb5d5"
      },
      "execution_count": 5,
      "outputs": [
        {
          "output_type": "stream",
          "name": "stdout",
          "text": [
            "12\n",
            "20\n"
          ]
        }
      ]
    },
    {
      "cell_type": "code",
      "source": [
        "b = int(input(\"Enter a nuber for conversion of min to hour : \"))\n",
        "hours=b//60\n",
        "min=b%60\n",
        "time=\"{}:{}\".format(hours,min)\n",
        "print(time)"
      ],
      "metadata": {
        "colab": {
          "base_uri": "https://localhost:8080/"
        },
        "id": "UqfUgKXEj-aH",
        "outputId": "5aec4857-49d2-480a-a3d4-4bcd03368484"
      },
      "execution_count": 13,
      "outputs": [
        {
          "output_type": "stream",
          "name": "stdout",
          "text": [
            "Enter a nuber for conversion of min to hour : 210\n",
            "3:30\n"
          ]
        }
      ]
    },
    {
      "cell_type": "markdown",
      "source": [
        "The objectives of the page are as follows\n",
        "\n",
        "*   Open jupyter notebook\n",
        "*   Use jupyter notebook\n",
        "*   Write info \n",
        "*   Save file\n",
        "*   Share file on Github\n",
        "*   Share file on coursera\n",
        "\n",
        "\n",
        "\n",
        "\n",
        "\n"
      ],
      "metadata": {
        "id": "9taZOEE-mU-X"
      }
    }
  ]
}
