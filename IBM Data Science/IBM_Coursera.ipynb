{
  "nbformat": 4,
  "nbformat_minor": 0,
  "metadata": {
    "colab": {
      "provenance": []
    },
    "kernelspec": {
      "name": "python3",
      "display_name": "Python 3"
    },
    "language_info": {
      "name": "python"
    }
  },
  "cells": [
    {
      "cell_type": "markdown",
      "source": [
        "# **My Jupyter Notebook on IBM Watson Studio**\n",
        "\n",
        "---\n",
        "\n"
      ],
      "metadata": {
        "id": "EGpIDNlHcyA4"
      }
    },
    {
      "cell_type": "markdown",
      "source": [
        "Data Science Tools ans Ecosystem in this section data science tools and ecosystem are summrized\n",
        "\n",
        "\n",
        "\n",
        "\n",
        "\n",
        "Model Monitring ans Assesment There is some popular languages for data science Python R java SQL Sqala Julia c++ JavaScript Go Ruby VB Popular Languages Pandas\n",
        "\n",
        "*   Data Management\n",
        "*   Data Intigration and transformation\n",
        "*   Data Visiulization\n",
        "*   Model Building\n",
        "*   Model Deployment\n",
        "\n",
        "\n",
        "\n",
        "\n",
        "\n",
        "\n"
      ],
      "metadata": {
        "id": "vXCqxdxodRMq"
      }
    },
    {
      "cell_type": "markdown",
      "source": [
        "\n",
        "\n",
        "---\n",
        "The List below contains some of the programming languages used in Data Science\n",
        "\n",
        "*  Python\n",
        "\n",
        "* R\n",
        "\n",
        "* SQL\n",
        "\n",
        "* Scala\n",
        "\n",
        "* Java\n",
        "\n",
        "* C++\n",
        "\n",
        "* Julia\n",
        "\n",
        "* JavaScript\n",
        "\n",
        "* PHP\n",
        "\n",
        "* Go\n",
        "\n",
        "* Ruby\n",
        "\n",
        "* Visual Basic\n",
        "\n",
        "\n",
        "\n",
        "\n",
        "\n",
        "\n",
        "\n"
      ],
      "metadata": {
        "id": "sMV2KF3nfUcT"
      }
    },
    {
      "cell_type": "markdown",
      "source": [
        "The List below contains some of the libbraries used in Data Science \n",
        "\n",
        "* Pandas\n",
        "* Numpy\n",
        "* Matplotlib\n",
        "* Seaborn\n",
        "* Scikit-learn\n",
        "* Keras\n",
        "* TensorFlow\n",
        "* PyTorch\n",
        "* Apache Spark\n",
        "* Vegas\n",
        "* Big DL\n",
        "* Ggplot2\n"
      ],
      "metadata": {
        "id": "T4LkMDmFgS1f"
      }
    },
    {
      "cell_type": "markdown",
      "source": [
        "|Data Science Tools |\n",
        "|---|\n",
        "|  Anaconda            |\n",
        "|  Jupyter Noteooks    |\n",
        "|  R studio            |\n",
        "|  Spyder              |\n",
        "|  Zeppelin            |\n",
        "\n",
        "\n",
        "\n",
        "\n",
        "\n",
        "\n",
        "\n",
        "\n",
        "\n"
      ],
      "metadata": {
        "id": "zrW4dEizhUX6"
      }
    },
    {
      "cell_type": "code",
      "source": [
        "a=10\n",
        "b=2\n",
        "print(a+b)\n",
        "print(a*b)"
      ],
      "metadata": {
        "colab": {
          "base_uri": "https://localhost:8080/"
        },
        "id": "du_gvjkTdQCm",
        "outputId": "2b1ec765-8bed-4b7c-c643-8217ed4eb5d5"
      },
      "execution_count": null,
      "outputs": [
        {
          "output_type": "stream",
          "name": "stdout",
          "text": [
            "12\n",
            "20\n"
          ]
        }
      ]
    },
    {
      "cell_type": "code",
      "source": [
        "# input for user\n",
        "b = int(input(\"Enter a nuber for conversion of min to hour : \"))\n",
        "\n",
        "# Arithmetic expressions\n",
        "hours=b//60\n",
        "min=b%60\n",
        "\n",
        "# Format of output and print statement\n",
        "time=\"{}:{}\".format(hours,min)\n",
        "print(time)"
      ],
      "metadata": {
        "colab": {
          "base_uri": "https://localhost:8080/"
        },
        "id": "UqfUgKXEj-aH",
        "outputId": "8be6576f-1a1a-4f51-a862-c24dbf0631bd"
      },
      "execution_count": 14,
      "outputs": [
        {
          "output_type": "stream",
          "name": "stdout",
          "text": [
            "Enter a nuber for conversion of min to hour : 210\n",
            "3:30\n"
          ]
        }
      ]
    },
    {
      "cell_type": "markdown",
      "source": [
        "Ojectives : \n",
        "\n",
        "*   Add comment to cells\n",
        "*   Create markdown cells\n",
        "*   Add ordered and unordered lists to markdown cells\n",
        "*   Format content of markdown celss with headin styles\n",
        "\n",
        "\n",
        "\n",
        "\n",
        "\n",
        "\n",
        "\n",
        "\n",
        "\n",
        "\n",
        "\n",
        "\n",
        "\n",
        "\n",
        "\n"
      ],
      "metadata": {
        "id": "9taZOEE-mU-X"
      }
    },
    {
      "cell_type": "markdown",
      "source": [
        "# Author(s)\n",
        "\n",
        "Harsh Mewada"
      ],
      "metadata": {
        "id": "Y0a9SdWGtlvP"
      }
    }
  ]
}
