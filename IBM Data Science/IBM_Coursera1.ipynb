{
  "nbformat": 4,
  "nbformat_minor": 0,
  "metadata": {
    "colab": {
      "provenance": []
    },
    "kernelspec": {
      "name": "python3",
      "display_name": "Python 3"
    },
    "language_info": {
      "name": "python"
    }
  },
  "cells": [
    {
      "cell_type": "markdown",
      "source": [
        "# **My Jupyter Notebook on IBM Watson Studio**\n",
        "\n",
        "---\n",
        "\n"
      ],
      "metadata": {
        "id": "EGpIDNlHcyA4"
      }
    },
    {
      "cell_type": "markdown",
      "source": [
        "Data Science Tools ans Ecosystem in this section data science tools and ecosystem are summrized\n",
        "\n",
        "\n",
        "\n",
        "\n",
        "\n",
        "Model Monitring ans Assesment There is some popular languages for data science Python R java SQL Sqala Julia c++ JavaScript Go Ruby VB Popular Languages Pandas\n",
        "\n",
        "*   Data Management\n",
        "*   Data Intigration and transformation\n",
        "*   Data Visiulization\n",
        "*   Model Building\n",
        "*   Model Deployment\n",
        "\n",
        "\n",
        "\n",
        "\n",
        "\n",
        "\n"
      ],
      "metadata": {
        "id": "vXCqxdxodRMq"
      }
    },
    {
      "cell_type": "markdown",
      "source": [
        "\n",
        "\n",
        "---\n",
        "The List below contains some of the programming languages used in Data Science\n",
        "\n",
        "*   Python\n",
        "\n",
        "*   SQL\n",
        "\n",
        "*   R\n",
        "\n",
        "*   Julia\n",
        "\n",
        "*   Java\n",
        "\n",
        "*   JavaScript\n",
        "\n",
        "*   Scala\n",
        "\n",
        "*   Go\n",
        "\n",
        "\n",
        "\n",
        "\n",
        "\n",
        "\n",
        "\n"
      ],
      "metadata": {
        "id": "sMV2KF3nfUcT"
      }
    },
    {
      "cell_type": "markdown",
      "source": [
        "The List below contains some of the libbraries used in Data Science \n",
        "\n",
        "\n",
        "*   TensorFlow\n",
        "*   Panda\n",
        "*   Numpy\n",
        "*   Sci-py\n",
        "*   Keras\n",
        "*   Scikit-learn\n",
        "*   Pytorch\n",
        "*   Scrapy\n",
        "\n"
      ],
      "metadata": {
        "id": "T4LkMDmFgS1f"
      }
    },
    {
      "cell_type": "markdown",
      "source": [
        "Data Science Tools are\n",
        "\n",
        "\n",
        "*   Anaconda\n",
        "*   Jupyter Noteooks\n",
        "*   R studio\n",
        "*   Spyder\n",
        "*   Zeppelin\n",
        "\n",
        "\n"
      ],
      "metadata": {
        "id": "zrW4dEizhUX6"
      }
    },
    {
      "cell_type": "code",
      "source": [
        "a=10\n",
        "b=2\n",
        "print(a+b)\n",
        "print(a*b)"
      ],
      "metadata": {
        "colab": {
          "base_uri": "https://localhost:8080/"
        },
        "id": "du_gvjkTdQCm",
        "outputId": "2b1ec765-8bed-4b7c-c643-8217ed4eb5d5"
      },
      "execution_count": null,
      "outputs": [
        {
          "output_type": "stream",
          "name": "stdout",
          "text": [
            "12\n",
            "20\n"
          ]
        }
      ]
    },
    {
      "cell_type": "code",
      "source": [
        "b = int(input(\"Enter a nuber for conversion of min to hour : \"))\n",
        "hours=b//60\n",
        "min=b%60\n",
        "time=\"{}:{}\".format(hours,min)\n",
        "print(time)"
      ],
      "metadata": {
        "colab": {
          "base_uri": "https://localhost:8080/"
        },
        "id": "UqfUgKXEj-aH",
        "outputId": "5aec4857-49d2-480a-a3d4-4bcd03368484"
      },
      "execution_count": null,
      "outputs": [
        {
          "output_type": "stream",
          "name": "stdout",
          "text": [
            "Enter a nuber for conversion of min to hour : 210\n",
            "3:30\n"
          ]
        }
      ]
    },
    {
      "cell_type": "markdown",
      "source": [
        "All of the following criteria are fulfilled \n",
        "\n",
        "*   A new markdown cell is inserted below the introduction cell\n",
        "*   It includes the title Objectives in bold font.\n",
        "*   An unordered list which lists three or more objectives is included.\n",
        "\n",
        "\n",
        "\n",
        "\n",
        "\n",
        "\n",
        "\n",
        "\n",
        "\n",
        "\n",
        "\n",
        "\n",
        "\n"
      ],
      "metadata": {
        "id": "9taZOEE-mU-X"
      }
    },
    {
      "cell_type": "markdown",
      "source": [
        "# Author(s)\n",
        "\n",
        "Harsh Mewada"
      ],
      "metadata": {
        "id": "Y0a9SdWGtlvP"
      }
    }
  ]
}
